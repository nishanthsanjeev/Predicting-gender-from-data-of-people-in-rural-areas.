{
 "cells": [
  {
   "cell_type": "code",
   "execution_count": 120,
   "metadata": {
    "collapsed": true
   },
   "outputs": [],
   "source": [
    "import pandas as pd\n",
    "import matplotlib.pyplot as plt\n",
    "import sklearn as sk"
   ]
  },
  {
   "cell_type": "code",
   "execution_count": 23,
   "metadata": {
    "collapsed": false
   },
   "outputs": [
    {
     "name": "stderr",
     "output_type": "stream",
     "text": [
      "C:\\Program Files\\Anaconda3\\lib\\site-packages\\IPython\\core\\interactiveshell.py:2717: DtypeWarning: Columns (12,49,51,56,91,126,145,163,165,166,167,168,169,171,173,174,176,177,242,244,246,248,252,255,274,290,291,292,294,295,296,332,344,366,374,376,397,414,440,491,620,634,639,642,643,645,710,713,760,769,810,829,929,954,979,1001,1002,1003,1004,1005,1024,1037,1041,1043,1062,1086,1099,1100,1121,1129,1136,1152,1153,1166,1168,1182,1193,1204,1205,1207,1208,1216,1226,1228,1230,1232,1234) have mixed types. Specify dtype option on import or set low_memory=False.\n",
      "  interactivity=interactivity, compiler=compiler, result=result)\n"
     ]
    }
   ],
   "source": [
    "data  = pd.read_csv(r\"C:\\Users\\Nishanth\\Downloads\\wids_train.csv\")\n",
    "#be sure to clean data first!\n",
    "#use mutual info rather than correlation\n",
    "#cannot use correlation (because linear?? what does this mean?)"
   ]
  },
  {
   "cell_type": "code",
   "execution_count": 122,
   "metadata": {
    "collapsed": false
   },
   "outputs": [],
   "source": [
    "#print(df)\n",
    "\n",
    "dataframe = pd.DataFrame(data, columns = ['is_female','DG5_4'])\n",
    "#driver's"
   ]
  },
  {
   "cell_type": "code",
   "execution_count": 123,
   "metadata": {
    "collapsed": false
   },
   "outputs": [
    {
     "name": "stdout",
     "output_type": "stream",
     "text": [
      "       is_female  DG5_4\n",
      "47             0      1\n",
      "81             0      1\n",
      "107            0      1\n",
      "126            0      1\n",
      "128            0      1\n",
      "133            0      1\n",
      "193            1      1\n",
      "200            0      1\n",
      "214            0      1\n",
      "227            0      1\n",
      "250            0      1\n",
      "278            1      1\n",
      "285            0      1\n",
      "286            1      1\n",
      "300            0      1\n",
      "308            0      1\n",
      "327            0      1\n",
      "338            0      1\n",
      "342            0      1\n",
      "346            0      1\n",
      "347            0      1\n",
      "365            0      1\n",
      "369            1      1\n",
      "382            1      1\n",
      "399            0      1\n",
      "425            0      1\n",
      "442            0      1\n",
      "446            0      1\n",
      "448            0      1\n",
      "486            0      1\n",
      "...          ...    ...\n",
      "17907          0      1\n",
      "17911          0      1\n",
      "17915          0      1\n",
      "17926          0      1\n",
      "17932          0      1\n",
      "17936          0      1\n",
      "17940          0      1\n",
      "17943          0      1\n",
      "17956          0      1\n",
      "17962          0      1\n",
      "17967          0      1\n",
      "17992          0      1\n",
      "18012          0      1\n",
      "18023          1      1\n",
      "18035          0      1\n",
      "18037          0      1\n",
      "18079          0      1\n",
      "18083          0      1\n",
      "18113          0      1\n",
      "18130          1      1\n",
      "18133          0      1\n",
      "18145          0      1\n",
      "18150          0      1\n",
      "18151          0      1\n",
      "18168          0      1\n",
      "18169          0      1\n",
      "18208          1      1\n",
      "18211          0      1\n",
      "18238          0      1\n",
      "18241          0      1\n",
      "\n",
      "[1529 rows x 2 columns]\n"
     ]
    }
   ],
   "source": [
    "#print(df[['is_female','DG13_5']])\n",
    "\n",
    "#print(dataframe)\n",
    "dataframe.dropna()\n",
    "basedonDG13_5 = dataframe[dataframe['DG5_4']==1]\n",
    "#basedonDG13_5 = dataframe[dataframe['GN3']==1]\n",
    "print(basedonDG13_5)"
   ]
  },
  {
   "cell_type": "code",
   "execution_count": 127,
   "metadata": {
    "collapsed": false
   },
   "outputs": [
    {
     "data": {
      "text/plain": [
       "<matplotlib.axes._subplots.AxesSubplot at 0x217804f8668>"
      ]
     },
     "execution_count": 127,
     "metadata": {},
     "output_type": "execute_result"
    }
   ],
   "source": [
    "df.plot.hist(basedonDG13_5, bins=10)\n",
    "t\n",
    "#basedonDG13_5"
   ]
  },
  {
   "cell_type": "code",
   "execution_count": null,
   "metadata": {
    "collapsed": true
   },
   "outputs": [],
   "source": []
  }
 ],
 "metadata": {
  "anaconda-cloud": {},
  "kernelspec": {
   "display_name": "Python [conda root]",
   "language": "python",
   "name": "conda-root-py"
  },
  "language_info": {
   "codemirror_mode": {
    "name": "ipython",
    "version": 3
   },
   "file_extension": ".py",
   "mimetype": "text/x-python",
   "name": "python",
   "nbconvert_exporter": "python",
   "pygments_lexer": "ipython3",
   "version": "3.5.2"
  }
 },
 "nbformat": 4,
 "nbformat_minor": 1
}
